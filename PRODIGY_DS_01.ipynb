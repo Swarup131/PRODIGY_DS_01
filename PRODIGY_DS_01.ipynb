{
 "cells": [
  {
   "cell_type": "markdown",
   "id": "f647245f-bab3-4403-a7fe-8977a907b7e0",
   "metadata": {},
   "source": [
    "# TASK 1"
   ]
  },
  {
   "cell_type": "markdown",
   "id": "4dd34a5f-0083-49f6-9096-51043d853638",
   "metadata": {},
   "source": [
    "## Importing necessary libraries"
   ]
  },
  {
   "cell_type": "code",
   "execution_count": 10,
   "id": "80e89df2-2d3a-40aa-9d7e-4b534cc12a65",
   "metadata": {},
   "outputs": [],
   "source": [
    "import pandas as pd\n",
    "import numpy  as np\n",
    "import seaborn as sns\n",
    "import matplotlib.pyplot as plt"
   ]
  },
  {
   "cell_type": "markdown",
   "id": "6595fd4c-bd2a-472c-aa29-f241c7923299",
   "metadata": {},
   "source": [
    "## Reading CSV file"
   ]
  },
  {
   "cell_type": "code",
   "execution_count": 40,
   "id": "1695ae12-774b-479b-8301-6368ae5e8b6d",
   "metadata": {},
   "outputs": [],
   "source": [
    "df = pd.read_csv(\"API_SP.POP.TOTL_DS2_en_csv_v2_38144.csv\", skiprows=4)\n"
   ]
  },
  {
   "cell_type": "markdown",
   "id": "9687442a-00ce-445b-837a-938f3f85bec2",
   "metadata": {},
   "source": [
    "# checking top 5 rows data"
   ]
  },
  {
   "cell_type": "code",
   "execution_count": 41,
   "id": "d6e6308c-a6b9-4ad2-b653-70dae272975e",
   "metadata": {},
   "outputs": [
    {
     "name": "stdout",
     "output_type": "stream",
     "text": [
      "                  Country Name Country Code     Indicator Name Indicator Code  \\\n",
      "0                        Aruba          ABW  Population, total    SP.POP.TOTL   \n",
      "1  Africa Eastern and Southern          AFE  Population, total    SP.POP.TOTL   \n",
      "2                  Afghanistan          AFG  Population, total    SP.POP.TOTL   \n",
      "3   Africa Western and Central          AFW  Population, total    SP.POP.TOTL   \n",
      "4                       Angola          AGO  Population, total    SP.POP.TOTL   \n",
      "\n",
      "          1960         1961         1962         1963         1964  \\\n",
      "0      54922.0      55578.0      56320.0      57002.0      57619.0   \n",
      "1  130075728.0  133534923.0  137171659.0  140945536.0  144904094.0   \n",
      "2    9035043.0    9214083.0    9404406.0    9604487.0    9814318.0   \n",
      "3   97630925.0   99706674.0  101854756.0  104089175.0  106388440.0   \n",
      "4    5231654.0    5301583.0    5354310.0    5408320.0    5464187.0   \n",
      "\n",
      "          1965  ...         2016         2017         2018         2019  \\\n",
      "0      58190.0  ...     108727.0     108735.0     108908.0     109203.0   \n",
      "1  149033472.0  ...  623369401.0  640058741.0  657801085.0  675950189.0   \n",
      "2   10036008.0  ...   34700612.0   35688935.0   36743039.0   37856121.0   \n",
      "3  108772632.0  ...  429454743.0  440882906.0  452195915.0  463365429.0   \n",
      "4    5521981.0  ...   29183070.0   30234839.0   31297155.0   32375632.0   \n",
      "\n",
      "          2020         2021         2022         2023         2024  \\\n",
      "0     108587.0     107700.0     107310.0     107359.0     107624.0   \n",
      "1  694446100.0  713090928.0  731821393.0  750503764.0  769294618.0   \n",
      "2   39068979.0   40000412.0   40578842.0   41454761.0   42647492.0   \n",
      "3  474569351.0  485920997.0  497387180.0  509398589.0  521764076.0   \n",
      "4   33451132.0   34532429.0   35635029.0   36749906.0   37885849.0   \n",
      "\n",
      "   Unnamed: 69  \n",
      "0          NaN  \n",
      "1          NaN  \n",
      "2          NaN  \n",
      "3          NaN  \n",
      "4          NaN  \n",
      "\n",
      "[5 rows x 70 columns]\n"
     ]
    }
   ],
   "source": [
    "print(df.head())\n"
   ]
  },
  {
   "cell_type": "markdown",
   "id": "02e4bc93-891b-4acd-8ab1-4ab83c2536a5",
   "metadata": {},
   "source": [
    "# checking data from button"
   ]
  },
  {
   "cell_type": "code",
   "execution_count": 42,
   "id": "c8852c22-97e1-4bd8-ac81-1315e3d42c92",
   "metadata": {},
   "outputs": [
    {
     "name": "stdout",
     "output_type": "stream",
     "text": [
      "     Country Name Country Code     Indicator Name Indicator Code        1960  \\\n",
      "261        Kosovo          XKX  Population, total    SP.POP.TOTL    984846.0   \n",
      "262   Yemen, Rep.          YEM  Population, total    SP.POP.TOTL   5532301.0   \n",
      "263  South Africa          ZAF  Population, total    SP.POP.TOTL  16440172.0   \n",
      "264        Zambia          ZMB  Population, total    SP.POP.TOTL   3153729.0   \n",
      "265      Zimbabwe          ZWE  Population, total    SP.POP.TOTL   3809389.0   \n",
      "\n",
      "           1961        1962        1963        1964        1965  ...  \\\n",
      "261   1011421.0   1036950.0   1062737.0   1090270.0   1120168.0  ...   \n",
      "262   5655232.0   5782221.0   5911135.0   6048006.0   6195593.0  ...   \n",
      "263  16908035.0  17418522.0  17954564.0  18511361.0  19089380.0  ...   \n",
      "264   3254086.0   3358099.0   3465907.0   3577017.0   3692086.0  ...   \n",
      "265   3930401.0   4055959.0   4185877.0   4320006.0   4458462.0  ...   \n",
      "\n",
      "           2016        2017        2018        2019        2020        2021  \\\n",
      "261   1777568.0   1791019.0   1797086.0   1788891.0   1790151.0   1786079.0   \n",
      "262  32109010.0  33090921.0  34085182.0  35111408.0  36134863.0  37140230.0   \n",
      "263  57259551.0  57635162.0  58613001.0  59587885.0  60562381.0  61502603.0   \n",
      "264  16914423.0  17441320.0  17973569.0  18513839.0  19059395.0  19603607.0   \n",
      "265  14600294.0  14812482.0  15034452.0  15271368.0  15526888.0  15797210.0   \n",
      "\n",
      "           2022        2023        2024  Unnamed: 69  \n",
      "261   1768096.0   1682668.0   1527324.0          NaN  \n",
      "262  38222876.0  39390799.0  40583164.0          NaN  \n",
      "263  62378410.0  63212384.0  64007187.0          NaN  \n",
      "264  20152938.0  20723965.0  21314956.0          NaN  \n",
      "265  16069056.0  16340822.0  16634373.0          NaN  \n",
      "\n",
      "[5 rows x 70 columns]\n"
     ]
    }
   ],
   "source": [
    "print(df.tail())\n"
   ]
  },
  {
   "cell_type": "markdown",
   "id": "a910db12-24f3-4bdf-a093-32646fb2f219",
   "metadata": {},
   "source": [
    "# checking column fronm data set"
   ]
  },
  {
   "cell_type": "code",
   "execution_count": 39,
   "id": "a4bc0a73-b7ee-471f-8bd7-f1867c9b0ad8",
   "metadata": {},
   "outputs": [
    {
     "name": "stdout",
     "output_type": "stream",
     "text": [
      "Index(['Country Name', 'Country Code', 'Indicator Name', 'Indicator Code',\n",
      "       '1960', '1961', '1962', '1963', '1964', '1965', '1966', '1967', '1968',\n",
      "       '1969', '1970', '1971', '1972', '1973', '1974', '1975', '1976', '1977',\n",
      "       '1978', '1979', '1980', '1981', '1982', '1983', '1984', '1985', '1986',\n",
      "       '1987', '1988', '1989', '1990', '1991', '1992', '1993', '1994', '1995',\n",
      "       '1996', '1997', '1998', '1999', '2000', '2001', '2002', '2003', '2004',\n",
      "       '2005', '2006', '2007', '2008', '2009', '2010', '2011', '2012', '2013',\n",
      "       '2014', '2015', '2016', '2017', '2018', '2019', '2020', '2021', '2022',\n",
      "       '2023', '2024', 'Unnamed: 69'],\n",
      "      dtype='object')\n"
     ]
    }
   ],
   "source": [
    "print(df.columns)\n"
   ]
  },
  {
   "cell_type": "markdown",
   "id": "0337f15c-377b-4bef-9b1f-249bfe6ce338",
   "metadata": {},
   "source": [
    "# Some information about the dataset"
   ]
  },
  {
   "cell_type": "code",
   "execution_count": 43,
   "id": "e56dec9a-f5e9-4a16-8be5-08d92d6ceb6a",
   "metadata": {},
   "outputs": [
    {
     "name": "stdout",
     "output_type": "stream",
     "text": [
      "<class 'pandas.core.frame.DataFrame'>\n",
      "RangeIndex: 266 entries, 0 to 265\n",
      "Data columns (total 70 columns):\n",
      " #   Column          Non-Null Count  Dtype  \n",
      "---  ------          --------------  -----  \n",
      " 0   Country Name    266 non-null    object \n",
      " 1   Country Code    266 non-null    object \n",
      " 2   Indicator Name  266 non-null    object \n",
      " 3   Indicator Code  266 non-null    object \n",
      " 4   1960            264 non-null    float64\n",
      " 5   1961            264 non-null    float64\n",
      " 6   1962            264 non-null    float64\n",
      " 7   1963            264 non-null    float64\n",
      " 8   1964            264 non-null    float64\n",
      " 9   1965            264 non-null    float64\n",
      " 10  1966            264 non-null    float64\n",
      " 11  1967            264 non-null    float64\n",
      " 12  1968            264 non-null    float64\n",
      " 13  1969            264 non-null    float64\n",
      " 14  1970            264 non-null    float64\n",
      " 15  1971            264 non-null    float64\n",
      " 16  1972            264 non-null    float64\n",
      " 17  1973            264 non-null    float64\n",
      " 18  1974            264 non-null    float64\n",
      " 19  1975            264 non-null    float64\n",
      " 20  1976            264 non-null    float64\n",
      " 21  1977            264 non-null    float64\n",
      " 22  1978            264 non-null    float64\n",
      " 23  1979            264 non-null    float64\n",
      " 24  1980            264 non-null    float64\n",
      " 25  1981            264 non-null    float64\n",
      " 26  1982            264 non-null    float64\n",
      " 27  1983            264 non-null    float64\n",
      " 28  1984            264 non-null    float64\n",
      " 29  1985            264 non-null    float64\n",
      " 30  1986            264 non-null    float64\n",
      " 31  1987            264 non-null    float64\n",
      " 32  1988            264 non-null    float64\n",
      " 33  1989            264 non-null    float64\n",
      " 34  1990            265 non-null    float64\n",
      " 35  1991            265 non-null    float64\n",
      " 36  1992            265 non-null    float64\n",
      " 37  1993            265 non-null    float64\n",
      " 38  1994            265 non-null    float64\n",
      " 39  1995            265 non-null    float64\n",
      " 40  1996            265 non-null    float64\n",
      " 41  1997            265 non-null    float64\n",
      " 42  1998            265 non-null    float64\n",
      " 43  1999            265 non-null    float64\n",
      " 44  2000            265 non-null    float64\n",
      " 45  2001            265 non-null    float64\n",
      " 46  2002            265 non-null    float64\n",
      " 47  2003            265 non-null    float64\n",
      " 48  2004            265 non-null    float64\n",
      " 49  2005            265 non-null    float64\n",
      " 50  2006            265 non-null    float64\n",
      " 51  2007            265 non-null    float64\n",
      " 52  2008            265 non-null    float64\n",
      " 53  2009            265 non-null    float64\n",
      " 54  2010            265 non-null    float64\n",
      " 55  2011            265 non-null    float64\n",
      " 56  2012            265 non-null    float64\n",
      " 57  2013            265 non-null    float64\n",
      " 58  2014            265 non-null    float64\n",
      " 59  2015            265 non-null    float64\n",
      " 60  2016            265 non-null    float64\n",
      " 61  2017            265 non-null    float64\n",
      " 62  2018            265 non-null    float64\n",
      " 63  2019            265 non-null    float64\n",
      " 64  2020            265 non-null    float64\n",
      " 65  2021            265 non-null    float64\n",
      " 66  2022            265 non-null    float64\n",
      " 67  2023            265 non-null    float64\n",
      " 68  2024            265 non-null    float64\n",
      " 69  Unnamed: 69     0 non-null      float64\n",
      "dtypes: float64(66), object(4)\n",
      "memory usage: 145.6+ KB\n",
      "None\n"
     ]
    }
   ],
   "source": [
    "print(df.info())"
   ]
  },
  {
   "cell_type": "markdown",
   "id": "e0d3eaf5-27a2-4feb-bfd5-52dd96a0d60c",
   "metadata": {},
   "source": [
    "# Checking unique values for column"
   ]
  },
  {
   "cell_type": "code",
   "execution_count": 46,
   "id": "49c9cad8-a69d-4ef4-889a-35eea35386c3",
   "metadata": {},
   "outputs": [
    {
     "name": "stdout",
     "output_type": "stream",
     "text": [
      "['Aruba' 'Africa Eastern and Southern' 'Afghanistan'\n",
      " 'Africa Western and Central' 'Angola' 'Albania' 'Andorra' 'Arab World'\n",
      " 'United Arab Emirates' 'Argentina' 'Armenia' 'American Samoa'\n",
      " 'Antigua and Barbuda' 'Australia' 'Austria' 'Azerbaijan' 'Burundi'\n",
      " 'Belgium' 'Benin' 'Burkina Faso' 'Bangladesh' 'Bulgaria' 'Bahrain'\n",
      " 'Bahamas, The' 'Bosnia and Herzegovina' 'Belarus' 'Belize' 'Bermuda'\n",
      " 'Bolivia' 'Brazil' 'Barbados' 'Brunei Darussalam' 'Bhutan' 'Botswana'\n",
      " 'Central African Republic' 'Canada' 'Central Europe and the Baltics'\n",
      " 'Switzerland' 'Channel Islands' 'Chile' 'China' \"Cote d'Ivoire\"\n",
      " 'Cameroon' 'Congo, Dem. Rep.' 'Congo, Rep.' 'Colombia' 'Comoros'\n",
      " 'Cabo Verde' 'Costa Rica' 'Caribbean small states' 'Cuba' 'Curacao'\n",
      " 'Cayman Islands' 'Cyprus' 'Czechia' 'Germany' 'Djibouti' 'Dominica'\n",
      " 'Denmark' 'Dominican Republic' 'Algeria'\n",
      " 'East Asia & Pacific (excluding high income)'\n",
      " 'Early-demographic dividend' 'East Asia & Pacific'\n",
      " 'Europe & Central Asia (excluding high income)' 'Europe & Central Asia'\n",
      " 'Ecuador' 'Egypt, Arab Rep.' 'Euro area' 'Eritrea' 'Spain' 'Estonia'\n",
      " 'Ethiopia' 'European Union' 'Fragile and conflict affected situations'\n",
      " 'Finland' 'Fiji' 'France' 'Faroe Islands' 'Micronesia, Fed. Sts.' 'Gabon'\n",
      " 'United Kingdom' 'Georgia' 'Ghana' 'Gibraltar' 'Guinea' 'Gambia, The'\n",
      " 'Guinea-Bissau' 'Equatorial Guinea' 'Greece' 'Grenada' 'Greenland'\n",
      " 'Guatemala' 'Guam' 'Guyana' 'High income' 'Hong Kong SAR, China'\n",
      " 'Honduras' 'Heavily indebted poor countries (HIPC)' 'Croatia' 'Haiti'\n",
      " 'Hungary' 'IBRD only' 'IDA & IBRD total' 'IDA total' 'IDA blend'\n",
      " 'Indonesia' 'IDA only' 'Isle of Man' 'India' 'Not classified' 'Ireland'\n",
      " 'Iran, Islamic Rep.' 'Iraq' 'Iceland' 'Israel' 'Italy' 'Jamaica' 'Jordan'\n",
      " 'Japan' 'Kazakhstan' 'Kenya' 'Kyrgyz Republic' 'Cambodia' 'Kiribati'\n",
      " 'St. Kitts and Nevis' 'Korea, Rep.' 'Kuwait'\n",
      " 'Latin America & Caribbean (excluding high income)' 'Lao PDR' 'Lebanon'\n",
      " 'Liberia' 'Libya' 'St. Lucia' 'Latin America & Caribbean'\n",
      " 'Least developed countries: UN classification' 'Low income'\n",
      " 'Liechtenstein' 'Sri Lanka' 'Lower middle income' 'Low & middle income'\n",
      " 'Lesotho' 'Late-demographic dividend' 'Lithuania' 'Luxembourg' 'Latvia'\n",
      " 'Macao SAR, China' 'St. Martin (French part)' 'Morocco' 'Monaco'\n",
      " 'Moldova' 'Madagascar' 'Maldives'\n",
      " 'Middle East, North Africa, Afghanistan & Pakistan' 'Mexico'\n",
      " 'Marshall Islands' 'Middle income' 'North Macedonia' 'Mali' 'Malta'\n",
      " 'Myanmar'\n",
      " 'Middle East, North Africa, Afghanistan & Pakistan (excluding high income)'\n",
      " 'Montenegro' 'Mongolia' 'Northern Mariana Islands' 'Mozambique'\n",
      " 'Mauritania' 'Mauritius' 'Malawi' 'Malaysia' 'North America' 'Namibia'\n",
      " 'New Caledonia' 'Niger' 'Nigeria' 'Nicaragua' 'Netherlands' 'Norway'\n",
      " 'Nepal' 'Nauru' 'New Zealand' 'OECD members' 'Oman' 'Other small states'\n",
      " 'Pakistan' 'Panama' 'Peru' 'Philippines' 'Palau' 'Papua New Guinea'\n",
      " 'Poland' 'Pre-demographic dividend' 'Puerto Rico (US)'\n",
      " \"Korea, Dem. People's Rep.\" 'Portugal' 'Paraguay' 'West Bank and Gaza'\n",
      " 'Pacific island small states' 'Post-demographic dividend'\n",
      " 'French Polynesia' 'Qatar' 'Romania' 'Russian Federation' 'Rwanda'\n",
      " 'South Asia' 'Saudi Arabia' 'Sudan' 'Senegal' 'Singapore'\n",
      " 'Solomon Islands' 'Sierra Leone' 'El Salvador' 'San Marino' 'Somalia'\n",
      " 'Serbia' 'Sub-Saharan Africa (excluding high income)' 'South Sudan'\n",
      " 'Sub-Saharan Africa' 'Small states' 'Sao Tome and Principe' 'Suriname'\n",
      " 'Slovak Republic' 'Slovenia' 'Sweden' 'Eswatini'\n",
      " 'Sint Maarten (Dutch part)' 'Seychelles' 'Syrian Arab Republic'\n",
      " 'Turks and Caicos Islands' 'Chad'\n",
      " 'East Asia & Pacific (IDA & IBRD countries)'\n",
      " 'Europe & Central Asia (IDA & IBRD countries)' 'Togo' 'Thailand'\n",
      " 'Tajikistan' 'Turkmenistan'\n",
      " 'Latin America & the Caribbean (IDA & IBRD countries)' 'Timor-Leste'\n",
      " 'Middle East, North Africa, Afghanistan & Pakistan (IDA & IBRD)' 'Tonga'\n",
      " 'South Asia (IDA & IBRD)' 'Sub-Saharan Africa (IDA & IBRD countries)'\n",
      " 'Trinidad and Tobago' 'Tunisia' 'Turkiye' 'Tuvalu' 'Tanzania' 'Uganda'\n",
      " 'Ukraine' 'Upper middle income' 'Uruguay' 'United States' 'Uzbekistan'\n",
      " 'St. Vincent and the Grenadines' 'Venezuela, RB' 'British Virgin Islands'\n",
      " 'Virgin Islands (U.S.)' 'Viet Nam' 'Vanuatu' 'World' 'Samoa' 'Kosovo'\n",
      " 'Yemen, Rep.' 'South Africa' 'Zambia' 'Zimbabwe']\n",
      "\n",
      " Total no of unique countries: 266\n"
     ]
    }
   ],
   "source": [
    "print(df['Country Name'].unique())\n",
    "print(\"\\n Total no of unique countries:\",df['Country Name'].nunique())"
   ]
  },
  {
   "cell_type": "markdown",
   "id": "2d93d4e0-92dd-4603-9827-922777ac6cfa",
   "metadata": {},
   "source": [
    "# Extraction of top 10 Countries with respect to total popullation\n"
   ]
  },
  {
   "cell_type": "code",
   "execution_count": 79,
   "id": "39e3611b-24ac-4bc4-836e-5d489fbe50df",
   "metadata": {},
   "outputs": [
    {
     "name": "stderr",
     "output_type": "stream",
     "text": [
      "C:\\Users\\ssssspc\\AppData\\Local\\Temp\\ipykernel_10756\\2125297223.py:15: FutureWarning: \n",
      "\n",
      "Passing `palette` without assigning `hue` is deprecated and will be removed in v0.14.0. Assign the `y` variable to `hue` and set `legend=False` for the same effect.\n",
      "\n",
      "  sns.barplot(x=\"2024\", y=\"Country Name\", data=top10, palette=\"coolwarm\")\n"
     ]
    },
    {
     "data": {
      "image/png": "[encoded data removed]",
      "text/plain": [
       "<Figure size 1200x600 with 1 Axes>"
      ]
     },
     "metadata": {},
     "output_type": "display_data"
    }
   ],
   "source": [
    "\n",
    "\n",
    "# Load dataset (skip metadata rows if needed)\n",
    "df = pd.read_csv(\"API_SP.POP.TOTL_DS2_en_csv_v2_38144.csv\", skiprows=4)\n",
    "\n",
    "# Select required columns\n",
    "df_2024 = df[[\"Country Name\", \"2024\"]]\n",
    "\n",
    "# Drop rows with NaN values in 2024\n",
    "df_2024 = df_2024.dropna()\n",
    "\n",
    "# Sort by population in 2024 (descending) and pick top 10\n",
    "top10 = df_2024.sort_values(by=\"2024\", ascending=False).head(10)\n",
    "\n",
    "# Plot barplot\n",
    "plt.figure(figsize=(12,6))\n",
    "sns.barplot(x=\"2024\", y=\"Country Name\", data=top10, palette=\"coolwarm\")\n",
    "\n",
    "# Titles and labels\n",
    "plt.title(\"Top 10 Countries by Population (2024)\", fontsize=14)\n",
    "plt.xlabel(\"Population\", fontsize=12)\n",
    "plt.ylabel(\"Country\", fontsize=12)\n",
    "\n",
    "plt.tight_layout()\n",
    "plt.show()"
   ]
  },
  {
   "cell_type": "markdown",
   "id": "5e115aa4-f636-488e-88c8-218cad4daefa",
   "metadata": {},
   "source": [
    "# Extract of top 10 Contries with highest male population"
   ]
  },
  {
   "cell_type": "code",
   "execution_count": 74,
   "id": "9432cf64-86e2-4aca-b654-b151f967afdb",
   "metadata": {},
   "outputs": [
    {
     "name": "stdout",
     "output_type": "stream",
     "text": [
      "No 'age' column found in the dataset.\n"
     ]
    }
   ],
   "source": [
    "\n",
    "\n",
    "# Make sure 'Age' column exists\n",
    "if \"age\" in df.columns:\n",
    "    plt.figure(figsize=(10,6))\n",
    "    sns.histplot(df[\"age\"], bins=20, kde=True, color=\"skyblue\")\n",
    "    plt.title(\"Distribution of ages in the Population\", fontsize=14)\n",
    "    plt.xlabel(\"age\", fontsize=12)\n",
    "    plt.ylabel(\"Count\", fontsize=12)\n",
    "    plt.show()\n",
    "else:\n",
    "    print(\"No 'age' column found in the dataset.\")\n"
   ]
  },
  {
   "cell_type": "code",
   "execution_count": 75,
   "id": "52525c0d-5130-4bdb-a827-845573f2fd9f",
   "metadata": {},
   "outputs": [
    {
     "name": "stdout",
     "output_type": "stream",
     "text": [
      "No 'Gender' column found in the dataset.\n"
     ]
    }
   ],
   "source": [
    "\n",
    "# Plot bar chart if Gender column exists\n",
    "if \"Gender\" in df.columns:\n",
    "    plt.figure(figsize=(6,4))\n",
    "    sns.countplot(x=\"Gender\", data=df, palette=\"Set2\")\n",
    "    plt.title(\"Distribution of Gender in the Population\", fontsize=14)\n",
    "    plt.xlabel(\"Gender\", fontsize=12)\n",
    "    plt.ylabel(\"Count\", fontsize=12)\n",
    "    plt.show()\n",
    "else:\n",
    "    print(\"No 'Gender' column found in the dataset.\")\n"
   ]
  },
  {
   "cell_type": "markdown",
   "id": "524010e6-6613-475c-93ad-5467702c1dad",
   "metadata": {},
   "source": [
    "# Bar plot of countries grouped by IncomeGoup"
   ]
  },
  {
   "cell_type": "code",
   "execution_count": 80,
   "id": "0774cb87-82aa-4078-9709-2567d8e711af",
   "metadata": {},
   "outputs": [
    {
     "name": "stdout",
     "output_type": "stream",
     "text": [
      "Index(['Country Code', 'Region', 'IncomeGroup', 'SpecialNotes', 'TableName',\n",
      "       'Unnamed: 5'],\n",
      "      dtype='object')\n"
     ]
    },
    {
     "name": "stderr",
     "output_type": "stream",
     "text": [
      "C:\\Users\\ssssspc\\AppData\\Local\\Temp\\ipykernel_10756\\2700266646.py:21: FutureWarning: \n",
      "\n",
      "Passing `palette` without assigning `hue` is deprecated and will be removed in v0.14.0. Assign the `x` variable to `hue` and set `legend=False` for the same effect.\n",
      "\n",
      "  sns.barplot(x=income_counts.index, y=income_counts.values, palette=\"viridis\")\n"
     ]
    },
    {
     "data": {
      "image/png": "[encoded data removed]",
      "text/plain": [
       "<Figure size 800x500 with 1 Axes>"
      ]
     },
     "metadata": {},
     "output_type": "display_data"
    },
    {
     "name": "stdout",
     "output_type": "stream",
     "text": [
      "\n",
      "Sample countries in each Income Group:\n",
      "\n",
      "--- Low income ---\n",
      "                                           Region Country Code\n",
      "Middle East, North Africa, Afghanistan & Pakistan          AFG\n",
      "                               Sub-Saharan Africa          BDI\n",
      "                               Sub-Saharan Africa          COD\n",
      "                               Sub-Saharan Africa          ERI\n",
      "                               Sub-Saharan Africa          LBR\n",
      "\n",
      "--- Lower middle income ---\n",
      "                                           Region Country Code\n",
      "                               Sub-Saharan Africa          AGO\n",
      "                                       South Asia          BGD\n",
      "Middle East, North Africa, Afghanistan & Pakistan          EGY\n",
      "                              East Asia & Pacific          FSM\n",
      "                               Sub-Saharan Africa          GHA\n",
      "\n",
      "--- Upper middle income ---\n",
      "                   Region Country Code\n",
      "Latin America & Caribbean          ARG\n",
      "    Europe & Central Asia          BLR\n",
      "      East Asia & Pacific          CHN\n",
      "    Europe & Central Asia          GEO\n",
      "Latin America & Caribbean          GTM\n",
      "\n",
      "--- High income ---\n",
      "               Region Country Code\n",
      "Europe & Central Asia          AUT\n",
      "Europe & Central Asia          BEL\n",
      "        North America          CAN\n",
      "Europe & Central Asia          CYP\n",
      "Europe & Central Asia          DEU\n",
      "\n"
     ]
    }
   ],
   "source": [
    "import pandas as pd\n",
    "import matplotlib.pyplot as plt\n",
    "import seaborn as sns\n",
    "\n",
    "# Load metadata file\n",
    "meta = pd.read_csv(\"Metadata_Country_API_SP.POP.TOTL_DS2_en_csv_v2_38144.csv\")\n",
    "\n",
    "# Check what columns exist\n",
    "print(meta.columns)\n",
    "\n",
    "# Keep only useful columns: Region, Country Code, IncomeGroup, SpecialNotes\n",
    "df_income = meta[[\"Region\", \"Country Code\", \"IncomeGroup\", \"SpecialNotes\"]].dropna()\n",
    "\n",
    "# Count how many countries fall into each income group\n",
    "income_counts = df_income[\"IncomeGroup\"].value_counts()\n",
    "\n",
    "# -------------------------------\n",
    "# Bar plot of Income Groups\n",
    "# -------------------------------\n",
    "plt.figure(figsize=(8,5))\n",
    "sns.barplot(x=income_counts.index, y=income_counts.values, palette=\"viridis\")\n",
    "\n",
    "plt.title(\"Distribution of Countries by Income Group\", fontsize=14)\n",
    "plt.xlabel(\"Income Group\", fontsize=12)\n",
    "plt.ylabel(\"Number of Countries\", fontsize=12)\n",
    "plt.xticks(rotation=20)\n",
    "plt.tight_layout()\n",
    "plt.show()\n",
    "\n",
    "# -------------------------------\n",
    "# Show Region & Country Code with Special Notes (sample)\n",
    "# -------------------------------\n",
    "print(\"\\nSample countries in each Income Group:\\n\")\n",
    "for group in df_income[\"IncomeGroup\"].unique():\n",
    "    subset = df_income[df_income[\"IncomeGroup\"] == group][[\"Region\", \"Country Code\"]].head(5)\n",
    "    print(f\"--- {group} ---\")\n",
    "    print(subset.to_string(index=False))\n",
    "    print()\n"
   ]
  },
  {
   "cell_type": "code",
   "execution_count": null,
   "id": "49a16708-da3d-4a51-8f8e-0701be2a98a6",
   "metadata": {},
   "outputs": [],
   "source": []
  }
 ],
 "metadata": {
  "kernelspec": {
   "display_name": "Python 3 (ipykernel)",
   "language": "python",
   "name": "python3"
  },
  "language_info": {
   "codemirror_mode": {
    "name": "ipython",
    "version": 3
   },
   "file_extension": ".py",
   "mimetype": "text/x-python",
   "name": "python",
   "nbconvert_exporter": "python",
   "pygments_lexer": "ipython3",
   "version": "3.13.3"
  }
 },
 "nbformat": 4,
 "nbformat_minor": 5
}
